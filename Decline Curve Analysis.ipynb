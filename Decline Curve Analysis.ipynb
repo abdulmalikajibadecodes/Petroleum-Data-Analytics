{
 "cells": [
  {
   "cell_type": "code",
   "execution_count": 1,
   "id": "26a215c7",
   "metadata": {},
   "outputs": [],
   "source": [
    "import pandas as pd\n",
    "import numpy as np\n",
    "import matplotlib.pyplot as plt"
   ]
  },
  {
   "cell_type": "code",
   "execution_count": 2,
   "id": "623e9ffa",
   "metadata": {},
   "outputs": [],
   "source": [
    "dca_df=pd.read_excel('DCA Test.xlsx')"
   ]
  },
  {
   "cell_type": "code",
   "execution_count": 3,
   "id": "58adf3ef",
   "metadata": {},
   "outputs": [],
   "source": [
    "dca_df.Date = pd.to_datetime(dca_df.Date)\n",
    "dca_df.set_index('Date', inplace=True)"
   ]
  },
  {
   "cell_type": "markdown",
   "id": "9759bce6",
   "metadata": {},
   "source": [
    "# Step 1---- Plotting the Production rate against time(in days)"
   ]
  },
  {
   "cell_type": "code",
   "execution_count": 4,
   "id": "c8a3e1dd",
   "metadata": {
    "scrolled": false
   },
   "outputs": [
    {
     "data": {
      "text/html": [
       "<div>\n",
       "<style scoped>\n",
       "    .dataframe tbody tr th:only-of-type {\n",
       "        vertical-align: middle;\n",
       "    }\n",
       "\n",
       "    .dataframe tbody tr th {\n",
       "        vertical-align: top;\n",
       "    }\n",
       "\n",
       "    .dataframe thead th {\n",
       "        text-align: right;\n",
       "    }\n",
       "</style>\n",
       "<table border=\"1\" class=\"dataframe\">\n",
       "  <thead>\n",
       "    <tr style=\"text-align: right;\">\n",
       "      <th></th>\n",
       "      <th>Rate (SCF/d)</th>\n",
       "    </tr>\n",
       "    <tr>\n",
       "      <th>Date</th>\n",
       "      <th></th>\n",
       "    </tr>\n",
       "  </thead>\n",
       "  <tbody>\n",
       "    <tr>\n",
       "      <th>2004-04-01</th>\n",
       "      <td>2706039.0</td>\n",
       "    </tr>\n",
       "    <tr>\n",
       "      <th>2004-05-01</th>\n",
       "      <td>2492086.2</td>\n",
       "    </tr>\n",
       "    <tr>\n",
       "      <th>2004-06-02</th>\n",
       "      <td>1816846.1</td>\n",
       "    </tr>\n",
       "    <tr>\n",
       "      <th>2004-07-02</th>\n",
       "      <td>1920207.4</td>\n",
       "    </tr>\n",
       "    <tr>\n",
       "      <th>2004-07-04</th>\n",
       "      <td>1683521.4</td>\n",
       "    </tr>\n",
       "  </tbody>\n",
       "</table>\n",
       "</div>"
      ],
      "text/plain": [
       "            Rate (SCF/d)\n",
       "Date                    \n",
       "2004-04-01     2706039.0\n",
       "2004-05-01     2492086.2\n",
       "2004-06-02     1816846.1\n",
       "2004-07-02     1920207.4\n",
       "2004-07-04     1683521.4"
      ]
     },
     "execution_count": 4,
     "metadata": {},
     "output_type": "execute_result"
    }
   ],
   "source": [
    "dca_df.head()"
   ]
  },
  {
   "cell_type": "markdown",
   "id": "5202d45e",
   "metadata": {},
   "source": [
    "Can't analyse directly with date. There will be a need to generate a new column for the number of days which will be used for analysis."
   ]
  },
  {
   "cell_type": "code",
   "execution_count": 5,
   "id": "f7708f63",
   "metadata": {},
   "outputs": [],
   "source": [
    "# creating a column for days\n",
    "\n",
    "dca_df['days'] = ((dca_df.index-dca_df.index.min())/pd.Timedelta(days=1)).astype(int)"
   ]
  },
  {
   "cell_type": "code",
   "execution_count": 6,
   "id": "738fb11d",
   "metadata": {
    "scrolled": true
   },
   "outputs": [
    {
     "data": {
      "text/html": [
       "<div>\n",
       "<style scoped>\n",
       "    .dataframe tbody tr th:only-of-type {\n",
       "        vertical-align: middle;\n",
       "    }\n",
       "\n",
       "    .dataframe tbody tr th {\n",
       "        vertical-align: top;\n",
       "    }\n",
       "\n",
       "    .dataframe thead th {\n",
       "        text-align: right;\n",
       "    }\n",
       "</style>\n",
       "<table border=\"1\" class=\"dataframe\">\n",
       "  <thead>\n",
       "    <tr style=\"text-align: right;\">\n",
       "      <th></th>\n",
       "      <th>Rate (SCF/d)</th>\n",
       "      <th>days</th>\n",
       "    </tr>\n",
       "    <tr>\n",
       "      <th>Date</th>\n",
       "      <th></th>\n",
       "      <th></th>\n",
       "    </tr>\n",
       "  </thead>\n",
       "  <tbody>\n",
       "    <tr>\n",
       "      <th>2004-04-01</th>\n",
       "      <td>2706039.0</td>\n",
       "      <td>0</td>\n",
       "    </tr>\n",
       "    <tr>\n",
       "      <th>2004-05-01</th>\n",
       "      <td>2492086.2</td>\n",
       "      <td>30</td>\n",
       "    </tr>\n",
       "    <tr>\n",
       "      <th>2004-06-02</th>\n",
       "      <td>1816846.1</td>\n",
       "      <td>62</td>\n",
       "    </tr>\n",
       "    <tr>\n",
       "      <th>2004-07-02</th>\n",
       "      <td>1920207.4</td>\n",
       "      <td>92</td>\n",
       "    </tr>\n",
       "    <tr>\n",
       "      <th>2004-07-04</th>\n",
       "      <td>1683521.4</td>\n",
       "      <td>94</td>\n",
       "    </tr>\n",
       "  </tbody>\n",
       "</table>\n",
       "</div>"
      ],
      "text/plain": [
       "            Rate (SCF/d)  days\n",
       "Date                          \n",
       "2004-04-01     2706039.0     0\n",
       "2004-05-01     2492086.2    30\n",
       "2004-06-02     1816846.1    62\n",
       "2004-07-02     1920207.4    92\n",
       "2004-07-04     1683521.4    94"
      ]
     },
     "execution_count": 6,
     "metadata": {},
     "output_type": "execute_result"
    }
   ],
   "source": [
    "dca_df.head()"
   ]
  },
  {
   "cell_type": "markdown",
   "id": "dbbc50cb",
   "metadata": {},
   "source": [
    "Now we can plot the production rate vs days"
   ]
  },
  {
   "cell_type": "code",
   "execution_count": 7,
   "id": "26ac64b9",
   "metadata": {},
   "outputs": [
    {
     "data": {
      "image/png": "[encoded data removed]",
      "text/plain": [
       "<Figure size 864x360 with 1 Axes>"
      ]
     },
     "metadata": {
      "needs_background": "light"
     },
     "output_type": "display_data"
    }
   ],
   "source": [
    "plt.figure(figsize=(12,5))\n",
    "\n",
    "plt.plot(dca_df['days'], dca_df['Rate (SCF/d)'])\n",
    "plt.grid();"
   ]
  },
  {
   "cell_type": "markdown",
   "id": "5b8aaf00",
   "metadata": {},
   "source": [
    "The data is quite noisy here. We would need to create a curve that best fits the data points before further analysis (model optimization). \n",
    "Generally, the data shows a hyperbolic decline behaviour."
   ]
  },
  {
   "cell_type": "code",
   "execution_count": 8,
   "id": "fe27ea88",
   "metadata": {},
   "outputs": [],
   "source": [
    "from scipy.optimize import curve_fit"
   ]
  },
  {
   "cell_type": "code",
   "execution_count": 9,
   "id": "33b02c45",
   "metadata": {},
   "outputs": [],
   "source": [
    "# defining the hyperbolic model\n",
    "def q_hyper(t,qi,D,b):\n",
    "    \n",
    "    qfit = qi/(np.abs(1+(b * D * t))**(1/b))\n",
    "    \n",
    "    return qfit\n",
    "\n",
    "# defining a function that optimizes the parameters based on the hyperbolic model using curve_fit function\n",
    "def hyperfit(q,t):\n",
    "    \n",
    "    #normalizing flow rate (q) and time (t) for a better convergence\n",
    "    q_n = q/max(q)\n",
    "    t_n = t/max(t)\n",
    "    \n",
    "    #optimizing parameters using curve_fit function\n",
    "    params = curve_fit(q_hyper, t_n, q_n)\n",
    "    [qi_n,D_n,b_n]=params[0] #these parameters are for normalized values of q and t\n",
    "    \n",
    "    #un-normalizing parameters for the actual values of q and t\n",
    "    qi_fit = qi_n*max(q)\n",
    "    D_fit = D_n/max(t)\n",
    "    b_fit = b_n/max(t)\n",
    "    \n",
    "    #using the parameters to generate data for curve\n",
    "    q_hyper_fit = q_hyper(t, qi_fit, D_fit, b_fit)\n",
    "    \n",
    "    return q_hyper_fit,params\n",
    "    \n"
   ]
  },
  {
   "cell_type": "code",
   "execution_count": 10,
   "id": "259dfa22",
   "metadata": {},
   "outputs": [],
   "source": [
    "q=dca_df['Rate (SCF/d)']\n",
    "t=dca_df['days']\n",
    "\n",
    "# flowrate array based on optimised parameters\n",
    "q_fit,params=hyperfit(q,t)"
   ]
  },
  {
   "cell_type": "code",
   "execution_count": 11,
   "id": "ff99fb3c",
   "metadata": {
    "scrolled": true
   },
   "outputs": [
    {
     "data": {
      "image/png": "[encoded data removed]",
      "text/plain": [
       "<Figure size 1080x288 with 1 Axes>"
      ]
     },
     "metadata": {
      "needs_background": "light"
     },
     "output_type": "display_data"
    }
   ],
   "source": [
    "# plotting fitted model over the actual production data\n",
    "\n",
    "plt.figure(figsize=(15,4))\n",
    "plt.scatter(t,q,label='Actual Production Data')\n",
    "plt.plot(t,q_fit,color='green',lw=4,label='DCA Model Fit')\n",
    "\n",
    "plt.ylabel(dca_df.columns[0])\n",
    "plt.xlabel('days')\n",
    "\n",
    "plt.grid()\n",
    "plt.legend();\n",
    "     "
   ]
  },
  {
   "cell_type": "markdown",
   "id": "8934a75f",
   "metadata": {},
   "source": [
    "# Step 2 ---- Determining the Cumulative production"
   ]
  },
  {
   "cell_type": "markdown",
   "id": "a289e10b",
   "metadata": {},
   "source": [
    "The Cumulative production is the area under the curve. This can be done by using Numerical integration (trapezoidal rule used)"
   ]
  },
  {
   "cell_type": "code",
   "execution_count": 12,
   "id": "bb0521e0",
   "metadata": {},
   "outputs": [],
   "source": [
    "from scipy.integrate import trapz"
   ]
  },
  {
   "cell_type": "code",
   "execution_count": 47,
   "id": "1d2a3757",
   "metadata": {},
   "outputs": [
    {
     "name": "stdout",
     "output_type": "stream",
     "text": [
      "The cumulative production is 656.8 MMSCF\n"
     ]
    }
   ],
   "source": [
    "cummulative_production= trapz(q_fit,t)\n",
    "\n",
    "print(f'The cumulative production is {round(cummulative_production/10**6,2)} MMSCF')"
   ]
  },
  {
   "cell_type": "code",
   "execution_count": 14,
   "id": "073b176b",
   "metadata": {},
   "outputs": [
    {
     "data": {
      "image/png": "[encoded data removed]",
      "text/plain": [
       "<Figure size 1080x288 with 1 Axes>"
      ]
     },
     "metadata": {
      "needs_background": "light"
     },
     "output_type": "display_data"
    }
   ],
   "source": [
    "plt.figure(figsize=(15,4))\n",
    "\n",
    "plt.plot(t,q_fit,color='green',lw=4)\n",
    "\n",
    "plt.fill_between(t,q_fit, 0, alpha=0.3)\n",
    "\n",
    "plt.annotate(f'Cumulative production: {round(cummulative_production/10**6,2)} MMSCF',\n",
    "            xy=(t[15], q_fit[20]), xycoords = 'data', \n",
    "            xytext = (-50, 30), textcoords = 'offset points',\n",
    "             fontweight='bold',\n",
    "             arrowprops = dict(arrowstyle =\"->\",\n",
    "                             connectionstyle = \"arc3, rad =-0.2\"))\n",
    "\n",
    "plt.ylabel(dca_df.columns[0])\n",
    "plt.xlabel('days')\n",
    "\n",
    "plt.grid();\n",
    "     "
   ]
  },
  {
   "cell_type": "markdown",
   "id": "7e1de27b",
   "metadata": {},
   "source": [
    "# Step 3 ---- Using model to predict future production and flow rate"
   ]
  },
  {
   "cell_type": "code",
   "execution_count": 36,
   "id": "6f7dda5c",
   "metadata": {},
   "outputs": [],
   "source": [
    "# defining a function that accepts a day, then provide predictions \n",
    "# on the cumulative production and flow rate for that day\n",
    "\n",
    "def predict(t_f):\n",
    "    \n",
    "    t_pred = np.append(dca_df['days'],np.arange(dca_df['days'][-1],t_f+1,5))\n",
    "    \n",
    "    [qi_n,D_n,b_n]=params[0]\n",
    "    \n",
    "    qi_fit = qi_n*max(q)\n",
    "    D_fit = D_n/max(t)\n",
    "    \n",
    "    q_pred = q_hyper(t_pred,qi_fit,D_fit,b_n)\n",
    "    \n",
    "    flowrate= q_pred[-1]\n",
    "    \n",
    "    return t_pred,q_pred,flowrate"
   ]
  },
  {
   "cell_type": "markdown",
   "id": "113db7a6",
   "metadata": {},
   "source": [
    "Let's say we would like to find the cumulative production from the gas reservoir after 1200 days (note that the original data stops at 974 days)"
   ]
  },
  {
   "cell_type": "code",
   "execution_count": 37,
   "id": "85b4c64d",
   "metadata": {},
   "outputs": [],
   "source": [
    "t_1200, q_1200, rate_1200 = predict(1200)"
   ]
  },
  {
   "cell_type": "code",
   "execution_count": 42,
   "id": "67b1d0c7",
   "metadata": {},
   "outputs": [
    {
     "data": {
      "image/png": "[encoded data removed]",
      "text/plain": [
       "<Figure size 1080x288 with 1 Axes>"
      ]
     },
     "metadata": {
      "needs_background": "light"
     },
     "output_type": "display_data"
    }
   ],
   "source": [
    "plt.figure(figsize=(15,4))\n",
    "\n",
    "plt.plot(t_1200,q_1200,lw=4)\n",
    "plt.fill_between(t_1200,q_1200, 0,color='green', alpha=0.3)\n",
    "\n",
    "plt.annotate(f'Cumulative production: {round(trapz(q_1200,t_1200)/10**6,2)} MMSCF',\n",
    "            xy=(t[15], q_fit[20]), xycoords = 'data', \n",
    "            xytext = (-50, 30), textcoords = 'offset points',\n",
    "             fontweight='bold',\n",
    "             arrowprops = dict(arrowstyle =\"->\",\n",
    "                             connectionstyle = \"arc3, rad =-0.2\"))\n",
    "\n",
    "plt.ylabel(dca_df.columns[0])\n",
    "plt.xlabel('days')\n",
    "\n",
    "plt.grid();"
   ]
  },
  {
   "cell_type": "code",
   "execution_count": 46,
   "id": "4335fe85",
   "metadata": {
    "scrolled": true
   },
   "outputs": [
    {
     "name": "stdout",
     "output_type": "stream",
     "text": [
      "The flow rate at 1200 days is 114158.6 SCF/d\n"
     ]
    }
   ],
   "source": [
    "print(f'The flow rate at 1200 days is {round(rate_1200,1)} SCF/d')"
   ]
  },
  {
   "cell_type": "markdown",
   "id": "c0b4e528",
   "metadata": {},
   "source": [
    "We could go further to find the remaining gas reserves if the OGIP is known. For an OGIP of 800 MMSCF:"
   ]
  },
  {
   "cell_type": "code",
   "execution_count": 52,
   "id": "10b885ab",
   "metadata": {},
   "outputs": [
    {
     "name": "stdout",
     "output_type": "stream",
     "text": [
      "The remaining gas reserve is 112.97 MMSCF\n"
     ]
    }
   ],
   "source": [
    "OGIP = 800 #MMSCF\n",
    "G_cumm = round(trapz(q_1200,t_1200)/10**6,2)\n",
    "G_rem = OGIP - G_cumm\n",
    "print(f'The remaining gas reserve is {round(G_rem,2)} MMSCF')"
   ]
  }
 ],
 "metadata": {
  "kernelspec": {
   "display_name": "Python 3 (ipykernel)",
   "language": "python",
   "name": "python3"
  },
  "language_info": {
   "codemirror_mode": {
    "name": "ipython",
    "version": 3
   },
   "file_extension": ".py",
   "mimetype": "text/x-python",
   "name": "python",
   "nbconvert_exporter": "python",
   "pygments_lexer": "ipython3",
   "version": "3.10.9"
  }
 },
 "nbformat": 4,
 "nbformat_minor": 5
}
